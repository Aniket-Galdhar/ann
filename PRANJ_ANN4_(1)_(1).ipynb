{
  "nbformat": 4,
  "nbformat_minor": 0,
  "metadata": {
    "colab": {
      "provenance": []
    },
    "kernelspec": {
      "name": "python3",
      "display_name": "Python 3"
    },
    "language_info": {
      "name": "python"
    }
  },
  "cells": [
    {
      "cell_type": "code",
      "execution_count": null,
      "metadata": {
        "id": "k-A6Qjqs1Uie"
      },
      "outputs": [],
      "source": [
        "import numpy as np"
      ]
    },
    {
      "cell_type": "code",
      "source": [
        "class ART1:\n",
        "    def __init__(self, num_features, vigilance):\n",
        "        self.num_features = num_features\n",
        "        self.vigilance = vigilance\n",
        "        self.weights = np.zeros((1, num_features))\n",
        "        self.category = -1\n",
        "\n",
        "    def train(self, x):\n",
        "        while True:\n",
        "            net = np.dot(self.weights, x)\n",
        "            rho = np.sum(net) / self.num_features\n",
        "            if rho >= self.vigilance:\n",
        "                self.weights = np.vstack((self.weights, x))\n",
        "                self.category += 1\n",
        "                break\n",
        "            else:\n",
        "                x = np.multiply(x, net)\n",
        "                if np.sum(x) == 0:\n",
        "                    break\n",
        "    \n",
        "    def predict(self, x):\n",
        "        net = np.dot(self.weights, x)\n",
        "        rho = np.sum(net) / self.num_features\n",
        "        if rho >= self.vigilance:\n",
        "            return self.category\n",
        "        else:\n",
        "            return -1 \n",
        "\n",
        "               "
      ],
      "metadata": {
        "id": "q0jPLGIC1-z3"
      },
      "execution_count": null,
      "outputs": []
    },
    {
      "cell_type": "code",
      "source": [
        "art = ART1(4, 0.5)\n",
        "\n"
      ],
      "metadata": {
        "id": "Q2Aqu3Co2JIU"
      },
      "execution_count": null,
      "outputs": []
    },
    {
      "cell_type": "code",
      "source": [
        "art.train(np.array([1, 1, 0, 0]))\n",
        "art.train(np.array([0, 0, 1, 1]))\n"
      ],
      "metadata": {
        "id": "xKmj0EHd3Mev"
      },
      "execution_count": null,
      "outputs": []
    },
    {
      "cell_type": "code",
      "source": [
        "category = art.predict(np.array([0, 1, 0, 0]))\n",
        "print(category)"
      ],
      "metadata": {
        "colab": {
          "base_uri": "https://localhost:8080/"
        },
        "id": "9hwCXjGs3zKk",
        "outputId": "5d103dda-ff20-4e87-92e6-8c302b4438e5"
      },
      "execution_count": null,
      "outputs": [
        {
          "output_type": "stream",
          "name": "stdout",
          "text": [
            "-1\n"
          ]
        }
      ]
    },
    {
      "cell_type": "code",
      "source": [],
      "metadata": {
        "id": "ex_ZIvPYOSC9"
      },
      "execution_count": null,
      "outputs": []
    }
  ]
}